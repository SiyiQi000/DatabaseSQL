{
 "cells": [
  {
   "cell_type": "markdown",
   "metadata": {},
   "source": [
    "<center>\n",
    "    <img src=\"https://s3-api.us-geo.objectstorage.softlayer.net/cf-courses-data/CognitiveClass/Logos/organization_logo/organization_logo.png\" width=\"300\" alt=\"cognitiveclass.ai logo\"  />\n",
    "</center>\n",
    "\n",
    "# Access DB2 on Cloud using Python\n",
    "\n",
    "Estimated time needed: **15** minutes\n",
    "\n",
    "## Objectives\n",
    "\n",
    "After completing this lab you will be able to:\n",
    "\n",
    "*   Create a table\n",
    "*   Insert data into the table\n",
    "*   Query data from the table\n",
    "*   Retrieve the result set into a pandas dataframe\n",
    "*   Close the database connection\n"
   ]
  },
  {
   "cell_type": "markdown",
   "metadata": {},
   "source": [
    "**Notice:** Please follow the instructions given in the first Lab of this course to Create a database service instance of Db2 on Cloud.\n",
    "\n",
    "## Task 1: Import the `ibm_db` Python library\n",
    "\n",
    "The `ibm_db` [API ](https://pypi.python.org/pypi/ibm_db/?utm_medium=Exinfluencer&utm_source=Exinfluencer&utm_content=000026UJ&utm_term=10006555&utm_id=NA-SkillsNetwork-Channel-SkillsNetworkCoursesIBMDeveloperSkillsNetworkDB0201ENSkillsNetwork20127838-2022-01-01) provides a variety of useful Python functions for accessing and manipulating data in an IBM® data server database, including functions for connecting to a database, preparing and issuing SQL statements, fetching rows from result sets, calling stored procedures, committing and rolling back transactions, handling errors, and retrieving metadata.\n",
    "\n",
    "We import the ibm_db library into our Python Application\n",
    "\n",
    "The following required modules are pre-installed in the Skills Network Labs environment. However if you run this notebook commands in a different Jupyter environment (e.g. Watson Studio or Ananconda) you may need to install these libraries by removing the `#` sign before `!pip` in the code cell below.\n"
   ]
  },
  {
   "cell_type": "code",
   "execution_count": null,
   "metadata": {},
   "outputs": [],
   "source": [
    "# These libraries are pre-installed in SN Labs. If running in another environment please uncomment lines below to install them:\n",
    "# !pip install --force-reinstall ibm_db==3.1.0 ibm_db_sa==0.3.3\n",
    "# Ensure we don't load_ext with sqlalchemy>=1.4 (incompadible)\n",
    "# !pip uninstall sqlalchemy==1.4 -y && pip install sqlalchemy==1.3.24\n",
    "# !pip install ipython-sql"
   ]
  },
  {
   "cell_type": "code",
   "execution_count": 1,
   "metadata": {
    "tags": []
   },
   "outputs": [],
   "source": [
    "import ibm_db"
   ]
  },
  {
   "cell_type": "code",
   "execution_count": 8,
   "metadata": {},
   "outputs": [
    {
     "name": "stdout",
     "output_type": "stream",
     "text": [
      "Help on module ibm_db:\n",
      "\n",
      "NAME\n",
      "    ibm_db - IBM DataServer Driver for Python.\n",
      "\n",
      "CLASSES\n",
      "    builtins.object\n",
      "        IBM_DBClientInfo\n",
      "        IBM_DBConnection\n",
      "        IBM_DBServerInfo\n",
      "        IBM_DBStatement\n",
      "    \n",
      "    class IBM_DBClientInfo(builtins.object)\n",
      "     |  IBM DataServer Client Information object\n",
      "     |  \n",
      "     |  Static methods defined here:\n",
      "     |  \n",
      "     |  __new__(*args, **kwargs) from builtins.type\n",
      "     |      Create and return a new object.  See help(type) for accurate signature.\n",
      "     |  \n",
      "     |  ----------------------------------------------------------------------\n",
      "     |  Data descriptors defined here:\n",
      "     |  \n",
      "     |  APPL_CODEPAGE\n",
      "     |      Application Codepage\n",
      "     |  \n",
      "     |  CONN_CODEPAGE\n",
      "     |      Connection Codepage\n",
      "     |  \n",
      "     |  DATA_SOURCE_NAME\n",
      "     |      Data Source Name\n",
      "     |  \n",
      "     |  DRIVER_NAME\n",
      "     |      Driver Name\n",
      "     |  \n",
      "     |  DRIVER_ODBC_VER\n",
      "     |      Driver ODBC Version\n",
      "     |  \n",
      "     |  DRIVER_VER\n",
      "     |      Driver Version\n",
      "     |  \n",
      "     |  ODBC_SQL_CONFORMANCE\n",
      "     |      ODBC SQL Conformance\n",
      "     |  \n",
      "     |  ODBC_VER\n",
      "     |      ODBC Version\n",
      "    \n",
      "    class IBM_DBConnection(builtins.object)\n",
      "     |  IBM DataServer connection object\n",
      "     |  \n",
      "     |  Static methods defined here:\n",
      "     |  \n",
      "     |  __new__(*args, **kwargs) from builtins.type\n",
      "     |      Create and return a new object.  See help(type) for accurate signature.\n",
      "    \n",
      "    class IBM_DBServerInfo(builtins.object)\n",
      "     |  IBM DataServer Information object\n",
      "     |  \n",
      "     |  Static methods defined here:\n",
      "     |  \n",
      "     |  __new__(*args, **kwargs) from builtins.type\n",
      "     |      Create and return a new object.  See help(type) for accurate signature.\n",
      "     |  \n",
      "     |  ----------------------------------------------------------------------\n",
      "     |  Data descriptors defined here:\n",
      "     |  \n",
      "     |  DBMS_NAME\n",
      "     |      Database Server Name\n",
      "     |  \n",
      "     |  DBMS_VER\n",
      "     |      Database Server Version\n",
      "     |  \n",
      "     |  DB_CODEPAGE\n",
      "     |      Database Codepage\n",
      "     |  \n",
      "     |  DB_NAME\n",
      "     |      Database Name\n",
      "     |  \n",
      "     |  DFT_ISOLATION\n",
      "     |      Default Server Isolation\n",
      "     |  \n",
      "     |  IDENTIFIER_QUOTE_CHAR\n",
      "     |      Character to quote an identifier\n",
      "     |  \n",
      "     |  INST_NAME\n",
      "     |      Database Server Instance Name\n",
      "     |  \n",
      "     |  ISOLATION_OPTION\n",
      "     |      Supported Isolation Levels\n",
      "     |  \n",
      "     |  KEYWORDS\n",
      "     |      Reserved words\n",
      "     |  \n",
      "     |  LIKE_ESCAPE_CLAUSE\n",
      "     |      TRUE if the database server supports the use of % and _ wildcard characters\n",
      "     |  \n",
      "     |  MAX_COL_NAME_LEN\n",
      "     |      Maximum length of column name supported by the database server in bytes\n",
      "     |  \n",
      "     |  MAX_IDENTIFIER_LEN\n",
      "     |      Maximum length of an SQL identifier supported by the database server, expressed in characters\n",
      "     |  \n",
      "     |  MAX_INDEX_SIZE\n",
      "     |      Maximum size of columns combined in an index supported by the database server, expressed in bytes\n",
      "     |  \n",
      "     |  MAX_PROC_NAME_LEN\n",
      "     |      Maximum length of a procedure name supported by the database server, expressed in bytes\n",
      "     |  \n",
      "     |  MAX_ROW_SIZE\n",
      "     |      Maximum length of a row in a base table supported by the database server, expressed in bytes\n",
      "     |  \n",
      "     |  MAX_SCHEMA_NAME_LEN\n",
      "     |      Maximum length of a schema name supported by the database server, expressed in bytes\n",
      "     |  \n",
      "     |  MAX_STATEMENT_LEN\n",
      "     |      Maximum length of an SQL statement supported by the database server, expressed in bytes\n",
      "     |  \n",
      "     |  MAX_TABLE_NAME_LEN\n",
      "     |      Maximum length of a table name supported by the database server, expressed in bytes\n",
      "     |  \n",
      "     |  NON_NULLABLE_COLUMNS\n",
      "     |      Connectionf the database server supports columns that can be defined as NOT NULL\n",
      "     |  \n",
      "     |  PROCEDURES\n",
      "     |      True if CALL statement is supported by database server\n",
      "     |  \n",
      "     |  SPECIAL_CHARS\n",
      "     |      Characters that can be used in an identifier\n",
      "     |  \n",
      "     |  SQL_CONFORMANCE\n",
      "     |      ANSI/ISO SQL-92 Specification Conformance\n",
      "    \n",
      "    class IBM_DBStatement(builtins.object)\n",
      "     |  IBM DataServer cursor object\n",
      "     |  \n",
      "     |  Static methods defined here:\n",
      "     |  \n",
      "     |  __new__(*args, **kwargs) from builtins.type\n",
      "     |      Create and return a new object.  See help(type) for accurate signature.\n",
      "\n",
      "FUNCTIONS\n",
      "    active(...)\n",
      "        Checks if the specified connection resource is active\n",
      "    \n",
      "    autocommit(...)\n",
      "        Returns or sets the AUTOCOMMIT state for a database connection\n",
      "    \n",
      "    bind_param(...)\n",
      "        Binds a Python variable to an SQL statement parameter\n",
      "    \n",
      "    callproc(...)\n",
      "        Returns a tuple containing OUT/INOUT variable value\n",
      "    \n",
      "    check_function_support(...)\n",
      "        return true if fuction is supported otherwise return false\n",
      "    \n",
      "    client_info(...)\n",
      "        Returns a read-only object with information about the DB2 database client\n",
      "    \n",
      "    close(...)\n",
      "        Close a database connection\n",
      "    \n",
      "    column_privileges(...)\n",
      "        Returns a result set listing the columns and associated privileges for a table.\n",
      "    \n",
      "    columns(...)\n",
      "        Returns a result set listing the columns and associated metadata for a table\n",
      "    \n",
      "    commit(...)\n",
      "        Commits a transaction\n",
      "    \n",
      "    conn_error(...)\n",
      "        Returns a string containing the SQLSTATE returned by the last connection attempt\n",
      "    \n",
      "    conn_errormsg(...)\n",
      "        Returns an error message and SQLCODE value representing the reason the last database connection attempt failed\n",
      "    \n",
      "    conn_warn(...)\n",
      "        Returns a warning string containing the SQLSTATE returned by the last connection attempt\n",
      "    \n",
      "    connect(...)\n",
      "        Connect to the database\n",
      "    \n",
      "    createdb(...)\n",
      "        Create db\n",
      "    \n",
      "    createdbNX(...)\n",
      "        createdbNX\n",
      "    \n",
      "    cursor_type(...)\n",
      "        Returns the cursor type used by a statement resource\n",
      "    \n",
      "    dropdb(...)\n",
      "        Drop db\n",
      "    \n",
      "    exec_immediate(...)\n",
      "        Prepares and executes an SQL statement.\n",
      "    \n",
      "    execute(...)\n",
      "        Executes an SQL statement that was prepared by ibm_db.prepare()\n",
      "    \n",
      "    execute_many(...)\n",
      "        Execute SQL with multiple rows.\n",
      "    \n",
      "    fetch_assoc(...)\n",
      "        Returns a dictionary, indexed by column name, representing a row in a result set\n",
      "    \n",
      "    fetch_both(...)\n",
      "        Returns a dictionary, indexed by both column name and position, representing a row in a result set\n",
      "    \n",
      "    fetch_row(...)\n",
      "        Sets the result set pointer to the next row or requested row\n",
      "    \n",
      "    fetch_tuple(...)\n",
      "        Returns an tuple, indexed by column position, representing a row in a result set\n",
      "    \n",
      "    field_display_size(...)\n",
      "        Returns the maximum number of bytes required to display a column\n",
      "    \n",
      "    field_name(...)\n",
      "        Returns the name of the column in the result set\n",
      "    \n",
      "    field_nullable(...)\n",
      "        Returns indicated column can contain nulls or not\n",
      "    \n",
      "    field_num(...)\n",
      "        Returns the position of the named column in a result set\n",
      "    \n",
      "    field_precision(...)\n",
      "        Returns the precision of the indicated column in a result set\n",
      "    \n",
      "    field_scale(...)\n",
      "        Returns the scale of the indicated column in a result set\n",
      "    \n",
      "    field_type(...)\n",
      "        Returns the data type of the indicated column in a result set\n",
      "    \n",
      "    field_width(...)\n",
      "        Returns the width of the indicated column in a result set\n",
      "    \n",
      "    foreign_keys(...)\n",
      "        Returns a result set listing the foreign keys for a table\n",
      "    \n",
      "    free_result(...)\n",
      "        Frees resources associated with a result set\n",
      "    \n",
      "    free_stmt(...)\n",
      "        Frees resources associated with the indicated statement resource\n",
      "    \n",
      "    get_db_info(...)\n",
      "        Returns an object with properties that describe the DB2 database server according to the option passed\n",
      "    \n",
      "    get_last_serial_value(...)\n",
      "        Returns last serial value inserted for identity column\n",
      "    \n",
      "    get_num_result(...)\n",
      "        Returns the number of rows in a current open non-dynamic scrollable cursor\n",
      "    \n",
      "    get_option(...)\n",
      "        Gets the specified option in the resource.\n",
      "    \n",
      "    next_result(...)\n",
      "        Requests the next result set from a stored procedure\n",
      "    \n",
      "    num_fields(...)\n",
      "        Returns the number of fields contained in a result set\n",
      "    \n",
      "    num_rows(...)\n",
      "        Returns the number of rows affected by an SQL statement\n",
      "    \n",
      "    pconnect(...)\n",
      "        Returns a persistent connection to a database\n",
      "    \n",
      "    prepare(...)\n",
      "        Prepares an SQL statement.\n",
      "    \n",
      "    primary_keys(...)\n",
      "        Returns a result set listing primary keys for a table\n",
      "    \n",
      "    procedure_columns(...)\n",
      "        Returns a result set listing the parameters for one or more stored procedures.\n",
      "    \n",
      "    procedures(...)\n",
      "        Returns a result set listing the stored procedures registered in a database\n",
      "    \n",
      "    recreatedb(...)\n",
      "        recreate db\n",
      "    \n",
      "    result(...)\n",
      "        Returns a single column from a row in the result set\n",
      "    \n",
      "    rollback(...)\n",
      "        Rolls back a transaction\n",
      "    \n",
      "    server_info(...)\n",
      "        Returns an object with properties that describe the DB2 database server\n",
      "    \n",
      "    set_option(...)\n",
      "        Sets the specified option in the resource\n",
      "    \n",
      "    special_columns(...)\n",
      "        Returns a result set listing the unique row identifier columns for a table\n",
      "    \n",
      "    statistics(...)\n",
      "        Returns a result set listing the index and statistics for a table\n",
      "    \n",
      "    stmt_error(...)\n",
      "        Returns a string containing the SQLSTATE returned by an SQL statement\n",
      "    \n",
      "    stmt_errormsg(...)\n",
      "        Returns a string containing the last SQL statement error message\n",
      "    \n",
      "    stmt_warn(...)\n",
      "        Returns a warning string containing the SQLSTATE returned by last SQL statement\n",
      "    \n",
      "    table_privileges(...)\n",
      "        Returns a result set listing the tables and associated privileges in a database\n",
      "    \n",
      "    tables(...)\n",
      "        Returns a result set listing the tables and associated metadata in a database\n",
      "\n",
      "DATA\n",
      "    ATTR_CASE = 3271982\n",
      "    CASE_LOWER = 1\n",
      "    CASE_NATURAL = 0\n",
      "    CASE_UPPER = 2\n",
      "    PARAM_FILE = 11\n",
      "    QUOTED_LITERAL_REPLACEMENT_OFF = 0\n",
      "    QUOTED_LITERAL_REPLACEMENT_ON = 1\n",
      "    SQL_API_SQLROWCOUNT = 20\n",
      "    SQL_ATTR_AUTOCOMMIT = 102\n",
      "    SQL_ATTR_CURRENT_SCHEMA = 1254\n",
      "    SQL_ATTR_CURSOR_TYPE = 6\n",
      "    SQL_ATTR_INFO_ACCTSTR = 1284\n",
      "    SQL_ATTR_INFO_APPLNAME = 1283\n",
      "    SQL_ATTR_INFO_PROGRAMNAME = 2516\n",
      "    SQL_ATTR_INFO_USERID = 1281\n",
      "    SQL_ATTR_INFO_WRKSTNNAME = 1282\n",
      "    SQL_ATTR_QUERY_TIMEOUT = 0\n",
      "    SQL_ATTR_ROWCOUNT_PREFETCH = 2592\n",
      "    SQL_ATTR_TRUSTED_CONTEXT_PASSWORD = 2563\n",
      "    SQL_ATTR_TRUSTED_CONTEXT_USERID = 2562\n",
      "    SQL_ATTR_USE_TRUSTED_CONTEXT = 2561\n",
      "    SQL_AUTOCOMMIT_OFF = 0\n",
      "    SQL_AUTOCOMMIT_ON = 1\n",
      "    SQL_BIGINT = -5\n",
      "    SQL_BINARY = -2\n",
      "    SQL_BIT = -7\n",
      "    SQL_BLOB = -98\n",
      "    SQL_BLOB_LOCATOR = 31\n",
      "    SQL_BOOLEAN = 16\n",
      "    SQL_CHAR = 1\n",
      "    SQL_CLOB = -99\n",
      "    SQL_CLOB_LOCATOR = 41\n",
      "    SQL_CURSOR_DYNAMIC = 2\n",
      "    SQL_CURSOR_FORWARD_ONLY = 0\n",
      "    SQL_CURSOR_KEYSET_DRIVEN = 1\n",
      "    SQL_CURSOR_STATIC = 3\n",
      "    SQL_DBCLOB = -350\n",
      "    SQL_DBCLOB_LOCATOR = -351\n",
      "    SQL_DBMS_NAME = 17\n",
      "    SQL_DBMS_VER = 18\n",
      "    SQL_DECFLOAT = -360\n",
      "    SQL_DECIMAL = 3\n",
      "    SQL_DOUBLE = 8\n",
      "    SQL_FALSE = 0\n",
      "    SQL_FLOAT = 6\n",
      "    SQL_GRAPHIC = -95\n",
      "    SQL_INDEX_CLUSTERED = 1\n",
      "    SQL_INDEX_OTHER = 3\n",
      "    SQL_INTEGER = 4\n",
      "    SQL_LONGVARBINARY = -4\n",
      "    SQL_LONGVARCHAR = -1\n",
      "    SQL_LONGVARGRAPHIC = -97\n",
      "    SQL_NUMERIC = 2\n",
      "    SQL_PARAM_INPUT = 1\n",
      "    SQL_PARAM_INPUT_OUTPUT = 2\n",
      "    SQL_PARAM_OUTPUT = 4\n",
      "    SQL_REAL = 7\n",
      "    SQL_ROWCOUNT_PREFETCH_OFF = 0\n",
      "    SQL_ROWCOUNT_PREFETCH_ON = 1\n",
      "    SQL_SMALLINT = 5\n",
      "    SQL_TABLE_STAT = 0\n",
      "    SQL_TINYINT = -6\n",
      "    SQL_TRUE = 1\n",
      "    SQL_TYPE_DATE = 91\n",
      "    SQL_TYPE_TIME = 92\n",
      "    SQL_TYPE_TIMESTAMP = 93\n",
      "    SQL_VARBINARY = -3\n",
      "    SQL_VARCHAR = 12\n",
      "    SQL_VARGRAPHIC = -96\n",
      "    SQL_WCHAR = -8\n",
      "    SQL_WLONGVARCHAR = -10\n",
      "    SQL_WVARCHAR = -9\n",
      "    SQL_XML = -370\n",
      "    USE_WCHAR = 100\n",
      "    WCHAR_NO = 0\n",
      "    WCHAR_YES = 1\n",
      "\n",
      "VERSION\n",
      "    3.1.0\n",
      "\n",
      "FILE\n",
      "    c:\\users\\dell\\anaconda3\\lib\\site-packages\\ibm_db_dlls\\ibm_db.dll\n",
      "\n",
      "\n"
     ]
    }
   ],
   "source": [
    "help(ibm_db)"
   ]
  },
  {
   "cell_type": "markdown",
   "metadata": {},
   "source": [
    "When the command above completes, the `ibm_db` library is loaded in your notebook.\n",
    "\n",
    "## Task 2: Identify the database connection credentials\n",
    "\n",
    "Connecting to dashDB or DB2 database requires the following information:\n",
    "\n",
    "*   Driver Name\n",
    "*   Database name\n",
    "*   Host DNS name or IP address\n",
    "*   Host port\n",
    "*   Connection protocol\n",
    "*   User ID\n",
    "*   User Password\n",
    "\n",
    "**Notice:** To obtain credentials please refer to the instructions given in the first Lab of this course\n",
    "\n",
    "Now enter your database credentials below\n",
    "\n",
    "Replace the placeholder values in angular brackets <> below with your actual database credentials\n",
    "\n",
    "e.g. replace \"database\" with \"BLUDB\"\n"
   ]
  },
  {
   "cell_type": "code",
   "execution_count": 14,
   "metadata": {},
   "outputs": [],
   "source": [
    "#Replace the placeholder values with your actual Db2 hostname, username, and password:\n",
    "dsn_hostname = \"98538591-7217-4024-b027-8baa776ffad1.c3n41cmd0nqnrk39u98g.databases.appdomain.cloud\" # e.g.: \"54a2f15b-5c0f-46df-8954-7e38e612c2bd.c1ogj3sd0tgtu0lqde00.databases.appdomain.cloud\"\n",
    "dsn_uid = \"xcx21383\"        # e.g. \"abc12345\"\n",
    "dsn_pwd = \"obn6EJZ71vblyuAF\"      # e.g. \"7dBZ3wWt9XN6$o0J\"\n",
    "\n",
    "dsn_driver = \"{IBM DB2 ODBC DRIVER}\"\n",
    "dsn_database = \"BLUDB\"            # e.g. \"BLUDB\"\n",
    "dsn_port = \"30875\"                # e.g. \"32733\" \n",
    "dsn_protocol = \"TCPIP\"            # i.e. \"TCPIP\"\n",
    "dsn_security = \"SSL\"              #i.e. \"SSL\""
   ]
  },
  {
   "cell_type": "markdown",
   "metadata": {},
   "source": [
    "## Task 3: Create the database connection\n",
    "\n",
    "Ibm_db API uses the IBM Data Server Driver for ODBC and CLI APIs to connect to IBM DB2 and Informix.\n",
    "\n",
    "Create the database connection\n"
   ]
  },
  {
   "cell_type": "code",
   "execution_count": 15,
   "metadata": {},
   "outputs": [
    {
     "name": "stdout",
     "output_type": "stream",
     "text": [
      "Connected to database:  BLUDB as user:  xcx21383 on host:  98538591-7217-4024-b027-8baa776ffad1.c3n41cmd0nqnrk39u98g.databases.appdomain.cloud\n"
     ]
    }
   ],
   "source": [
    "#Create database connection\n",
    "#DO NOT MODIFY THIS CELL. Just RUN it with Shift + Enter\n",
    "dsn = (\n",
    "    \"DRIVER={0};\"\n",
    "    \"DATABASE={1};\"\n",
    "    \"HOSTNAME={2};\"\n",
    "    \"PORT={3};\"\n",
    "    \"PROTOCOL={4};\"\n",
    "    \"UID={5};\"\n",
    "    \"PWD={6};\"\n",
    "    \"SECURITY={7};\").format(dsn_driver, dsn_database, dsn_hostname, dsn_port, dsn_protocol, dsn_uid, dsn_pwd,dsn_security)\n",
    "\n",
    "try:\n",
    "    conn = ibm_db.connect(dsn, \"\", \"\")\n",
    "    print (\"Connected to database: \", dsn_database, \"as user: \", dsn_uid, \"on host: \", dsn_hostname)\n",
    "\n",
    "except:\n",
    "    print (\"Unable to connect: \", ibm_db.conn_errormsg() )\n"
   ]
  },
  {
   "cell_type": "markdown",
   "metadata": {},
   "source": [
    "## Task 4: Create a table in the database\n",
    "\n",
    "In this step we will create a table in the database with following details:\n",
    "\n",
    "<img src = \"https://ibm.box.com/shared/static/ztd2cn4xkdoj5erlk4hhng39kbp63s1h.jpg\" align=\"center\">\n"
   ]
  },
  {
   "cell_type": "code",
   "execution_count": 16,
   "metadata": {},
   "outputs": [
    {
     "ename": "Exception",
     "evalue": "[IBM][CLI Driver][DB2/LINUXX8664] SQL0204N  \"XCX21383.INSTRUCTOR\" is an undefined name.  SQLSTATE=42704\r SQLCODE=-204",
     "output_type": "error",
     "traceback": [
      "\u001b[1;31m---------------------------------------------------------------------------\u001b[0m",
      "\u001b[1;31mException\u001b[0m                                 Traceback (most recent call last)",
      "\u001b[1;32m~\\AppData\\Local\\Temp/ipykernel_12208/595635871.py\u001b[0m in \u001b[0;36m<module>\u001b[1;34m\u001b[0m\n\u001b[0;32m      3\u001b[0m \u001b[1;33m\u001b[0m\u001b[0m\n\u001b[0;32m      4\u001b[0m \u001b[1;31m#Now execute the drop statment\u001b[0m\u001b[1;33m\u001b[0m\u001b[1;33m\u001b[0m\u001b[0m\n\u001b[1;32m----> 5\u001b[1;33m \u001b[0mdropStmt\u001b[0m \u001b[1;33m=\u001b[0m \u001b[0mibm_db\u001b[0m\u001b[1;33m.\u001b[0m\u001b[0mexec_immediate\u001b[0m\u001b[1;33m(\u001b[0m\u001b[0mconn\u001b[0m\u001b[1;33m,\u001b[0m \u001b[0mdropQuery\u001b[0m\u001b[1;33m)\u001b[0m\u001b[1;33m\u001b[0m\u001b[1;33m\u001b[0m\u001b[0m\n\u001b[0m",
      "\u001b[1;31mException\u001b[0m: [IBM][CLI Driver][DB2/LINUXX8664] SQL0204N  \"XCX21383.INSTRUCTOR\" is an undefined name.  SQLSTATE=42704\r SQLCODE=-204"
     ]
    }
   ],
   "source": [
    "#Lets first drop the table INSTRUCTOR in case it exists from a previous attempt\n",
    "dropQuery = \"drop table INSTRUCTOR\"\n",
    "\n",
    "#Now execute the drop statment\n",
    "dropStmt = ibm_db.exec_immediate(conn, dropQuery)"
   ]
  },
  {
   "cell_type": "markdown",
   "metadata": {},
   "source": [
    "## Dont worry if you get this error:\n",
    "\n",
    "If you see an exception/error similar to the following, indicating that INSTRUCTOR is an undefined name, that's okay. It just implies that the INSTRUCTOR table does not exist in the table - which would be the case if you had not created it previously.\n",
    "\n",
    "Exception: \\[IBM]\\[CLI Driver]\\[DB2/LINUXX8664] SQL0204N  \"ABC12345.INSTRUCTOR\" is an undefined name.  SQLSTATE=42704 SQLCODE=-204\n"
   ]
  },
  {
   "cell_type": "code",
   "execution_count": 17,
   "metadata": {},
   "outputs": [],
   "source": [
    "#Construct the Create Table DDL statement - replace the ... with rest of the statement\n",
    "createQuery = \"create table INSTRUCTOR(ID INTEGER PRIMARY KEY NOT NULL, FNAME VARCHAR(20), LNAME VARCHAR(20), CITY VARCHAR(20), CCODE CHAR(2))\"\n",
    "\n",
    "#Now fill in the name of the method and execute the statement\n",
    "createStmt = ibm_db.exec_immediate(conn,createQuery)"
   ]
  },
  {
   "cell_type": "markdown",
   "metadata": {},
   "source": [
    "<details><summary>Click here for the solution</summary>\n",
    "\n",
    "```python\n",
    "createQuery = \"create table INSTRUCTOR(ID INTEGER PRIMARY KEY NOT NULL, FNAME VARCHAR(20), LNAME VARCHAR(20), CITY VARCHAR(20), CCODE CHAR(2))\"\n",
    "\n",
    "createStmt = ibm_db.exec_immediate(conn,createQuery)\n",
    "```\n",
    "\n",
    "</details>\n"
   ]
  },
  {
   "cell_type": "markdown",
   "metadata": {},
   "source": [
    "## Task 5: Insert data into the table\n",
    "\n",
    "In this step we will insert some rows of data into the table.\n",
    "\n",
    "The INSTRUCTOR table we created in the previous step contains 3 rows of data:\n",
    "\n",
    "<img src=\"https://ibm.box.com/shared/static/j5yjassxefrjknivfpekj7698dqe4d8i.jpg\" align=\"center\">\n",
    "\n",
    "We will start by inserting just the first row of data, i.e. for instructor Rav Ahuja\n"
   ]
  },
  {
   "cell_type": "code",
   "execution_count": 18,
   "metadata": {},
   "outputs": [],
   "source": [
    "#Construct the query - replace ... with the insert statement\n",
    "insertQuery = \"INSERT INTO Instructor(ID, FNAME, LNAME, CITY, CCODE) VALUES (1, 'Rav', 'Ahuja', 'TORONTO', 'CA')\"\n",
    "\n",
    "#execute the insert statement\n",
    "insertStmt = ibm_db.exec_immediate(conn, insertQuery)"
   ]
  },
  {
   "cell_type": "markdown",
   "metadata": {},
   "source": [
    "<details><summary>Click here for the solution</summary>\n",
    "\n",
    "```python\n",
    "insertQuery = \"insert into INSTRUCTOR values (1, 'Rav', 'Ahuja', 'TORONTO', 'CA')\"\n",
    "\n",
    "insertStmt = ibm_db.exec_immediate(conn, insertQuery)\n",
    "```\n",
    "\n",
    "</details>\n"
   ]
  },
  {
   "cell_type": "markdown",
   "metadata": {},
   "source": [
    "Now use a single query to insert the remaining two rows of data\n"
   ]
  },
  {
   "cell_type": "code",
   "execution_count": 19,
   "metadata": {},
   "outputs": [],
   "source": [
    "#replace ... with the insert statement that inerts the remaining two rows of data\n",
    "insertQuery2 = \"insert into INSTRUCTOR values (2, 'Raul', 'Chong', 'Markham', 'CA'),(3, 'Hima', 'Vasudevan', 'Chicago', 'US')\"\n",
    "\n",
    "#execute the statement\n",
    "insertStmt2 = ibm_db.exec_immediate(conn, insertQuery2)"
   ]
  },
  {
   "cell_type": "markdown",
   "metadata": {},
   "source": [
    "<details><summary>Click here for the solution</summary>\n",
    "\n",
    "```python\n",
    "insertQuery2 = \"insert into INSTRUCTOR values (2, 'Raul', 'Chong', 'Markham', 'CA'), (3, 'Hima', 'Vasudevan', 'Chicago', 'US')\"\n",
    "\n",
    "insertStmt2 = ibm_db.exec_immediate(conn, insertQuery2)\n",
    "\n",
    "```\n",
    "\n",
    "</details>\n"
   ]
  },
  {
   "cell_type": "markdown",
   "metadata": {},
   "source": [
    "## Task 6: Query data in the table\n",
    "\n",
    "In this step we will retrieve data we inserted into the INSTRUCTOR table.\n"
   ]
  },
  {
   "cell_type": "code",
   "execution_count": 20,
   "metadata": {},
   "outputs": [
    {
     "data": {
      "text/plain": [
       "{'ID': 1,\n",
       " 0: 1,\n",
       " 'FNAME': 'Rav',\n",
       " 1: 'Rav',\n",
       " 'LNAME': 'Ahuja',\n",
       " 2: 'Ahuja',\n",
       " 'CITY': 'TORONTO',\n",
       " 3: 'TORONTO',\n",
       " 'CCODE': 'CA',\n",
       " 4: 'CA'}"
      ]
     },
     "execution_count": 20,
     "metadata": {},
     "output_type": "execute_result"
    }
   ],
   "source": [
    "#Construct the query that retrieves all rows from the INSTRUCTOR table\n",
    "selectQuery = \"select * from INSTRUCTOR\"\n",
    "\n",
    "#Execute the statement\n",
    "selectStmt = ibm_db.exec_immediate(conn, selectQuery)\n",
    "\n",
    "#Fetch the Dictionary (for the first row only) - replace ... with your code\n",
    "ibm_db.fetch_both(selectStmt)"
   ]
  },
  {
   "cell_type": "markdown",
   "metadata": {},
   "source": [
    "<details><summary>Click here for the solution</summary>\n",
    "\n",
    "```python\n",
    "#Construct the query that retrieves all rows from the INSTRUCTOR table\n",
    "selectQuery = \"select * from INSTRUCTOR\"\n",
    "\n",
    "#Execute the statement\n",
    "selectStmt = ibm_db.exec_immediate(conn, selectQuery)\n",
    "\n",
    "#Fetch the Dictionary (for the first row only)\n",
    "ibm_db.fetch_both(selectStmt)\n",
    "\n",
    "```\n",
    "\n",
    "</details>\n"
   ]
  },
  {
   "cell_type": "code",
   "execution_count": 21,
   "metadata": {},
   "outputs": [
    {
     "name": "stdout",
     "output_type": "stream",
     "text": [
      " ID: 2  FNAME: Raul\n",
      " ID: 3  FNAME: Hima\n"
     ]
    }
   ],
   "source": [
    "#Fetch the rest of the rows and print the ID and FNAME for those rows\n",
    "while ibm_db.fetch_row(selectStmt) != False:\n",
    "       print (\" ID:\",  ibm_db.result(selectStmt, 0), \" FNAME:\",  ibm_db.result(selectStmt, \"FNAME\"))"
   ]
  },
  {
   "cell_type": "markdown",
   "metadata": {},
   "source": [
    "<details><summary>Click here for the solution</summary>\n",
    "\n",
    "```python\n",
    "#Fetch the rest of the rows and print the ID and FNAME for those rows\n",
    "while ibm_db.fetch_row(selectStmt) != False:\n",
    "    print (\" ID:\",  ibm_db.result(selectStmt, 0), \" FNAME:\",  ibm_db.result(selectStmt, \"FNAME\"))\n",
    "\n",
    "```\n",
    "\n",
    "</details>\n"
   ]
  },
  {
   "cell_type": "markdown",
   "metadata": {},
   "source": [
    "Bonus: now write and execute an update statement that changes the Rav's CITY to MOOSETOWN\n"
   ]
  },
  {
   "cell_type": "code",
   "execution_count": 22,
   "metadata": {},
   "outputs": [],
   "source": [
    "#Enter your code below\n",
    "updateQuery = \"UPDATE Instructor SET CITY='MOOSETOWN' WHERE FNAME='Rav'\"\n",
    "selectStmt = ibm_db.exec_immediate(conn, updateQuery)\n",
    "\n"
   ]
  },
  {
   "cell_type": "markdown",
   "metadata": {},
   "source": [
    "<details><summary>Click here for the solution</summary>\n",
    "\n",
    "```python\n",
    "updateQuery = \"update INSTRUCTOR set CITY='MOOSETOWN' where FNAME='Rav'\"\n",
    "updateStmt = ibm_db.exec_immediate(conn, updateQuery)\n",
    "\n",
    "```\n",
    "\n",
    "</details>\n"
   ]
  },
  {
   "cell_type": "markdown",
   "metadata": {},
   "source": [
    "## Task 7: Retrieve data into Pandas\n",
    "\n",
    "In this step we will retrieve the contents of the INSTRUCTOR table into a Pandas dataframe\n"
   ]
  },
  {
   "cell_type": "code",
   "execution_count": 23,
   "metadata": {
    "tags": []
   },
   "outputs": [],
   "source": [
    "import pandas\n",
    "import ibm_db_dbi"
   ]
  },
  {
   "cell_type": "code",
   "execution_count": 24,
   "metadata": {
    "tags": []
   },
   "outputs": [],
   "source": [
    "#connection for pandas\n",
    "pconn = ibm_db_dbi.Connection(conn)"
   ]
  },
  {
   "cell_type": "code",
   "execution_count": 26,
   "metadata": {},
   "outputs": [
    {
     "data": {
      "text/plain": [
       "'Ahuja'"
      ]
     },
     "execution_count": 26,
     "metadata": {},
     "output_type": "execute_result"
    }
   ],
   "source": [
    "#query statement to retrieve all rows in INSTRUCTOR table\n",
    "selectQuery = \"select * from INSTRUCTOR\"\n",
    "\n",
    "#retrieve the query results into a pandas dataframe\n",
    "pdf = pandas.read_sql(selectQuery, pconn)\n",
    "\n",
    "#print just the LNAME for first row in the pandas data frame\n",
    "pdf.LNAME[0]"
   ]
  },
  {
   "cell_type": "code",
   "execution_count": 27,
   "metadata": {},
   "outputs": [
    {
     "data": {
      "text/html": [
       "<div>\n",
       "<style scoped>\n",
       "    .dataframe tbody tr th:only-of-type {\n",
       "        vertical-align: middle;\n",
       "    }\n",
       "\n",
       "    .dataframe tbody tr th {\n",
       "        vertical-align: top;\n",
       "    }\n",
       "\n",
       "    .dataframe thead th {\n",
       "        text-align: right;\n",
       "    }\n",
       "</style>\n",
       "<table border=\"1\" class=\"dataframe\">\n",
       "  <thead>\n",
       "    <tr style=\"text-align: right;\">\n",
       "      <th></th>\n",
       "      <th>ID</th>\n",
       "      <th>FNAME</th>\n",
       "      <th>LNAME</th>\n",
       "      <th>CITY</th>\n",
       "      <th>CCODE</th>\n",
       "    </tr>\n",
       "  </thead>\n",
       "  <tbody>\n",
       "    <tr>\n",
       "      <th>0</th>\n",
       "      <td>1</td>\n",
       "      <td>Rav</td>\n",
       "      <td>Ahuja</td>\n",
       "      <td>MOOSETOWN</td>\n",
       "      <td>CA</td>\n",
       "    </tr>\n",
       "    <tr>\n",
       "      <th>1</th>\n",
       "      <td>2</td>\n",
       "      <td>Raul</td>\n",
       "      <td>Chong</td>\n",
       "      <td>Markham</td>\n",
       "      <td>CA</td>\n",
       "    </tr>\n",
       "    <tr>\n",
       "      <th>2</th>\n",
       "      <td>3</td>\n",
       "      <td>Hima</td>\n",
       "      <td>Vasudevan</td>\n",
       "      <td>Chicago</td>\n",
       "      <td>US</td>\n",
       "    </tr>\n",
       "  </tbody>\n",
       "</table>\n",
       "</div>"
      ],
      "text/plain": [
       "   ID FNAME      LNAME       CITY CCODE\n",
       "0   1   Rav      Ahuja  MOOSETOWN    CA\n",
       "1   2  Raul      Chong    Markham    CA\n",
       "2   3  Hima  Vasudevan    Chicago    US"
      ]
     },
     "execution_count": 27,
     "metadata": {},
     "output_type": "execute_result"
    }
   ],
   "source": [
    "#print the entire data frame\n",
    "pdf"
   ]
  },
  {
   "cell_type": "markdown",
   "metadata": {},
   "source": [
    "Once the data is in a Pandas dataframe, you can do the typical pandas operations on it.\n",
    "\n",
    "For example you can use the shape method to see how many rows and columns are in the dataframe\n"
   ]
  },
  {
   "cell_type": "code",
   "execution_count": 28,
   "metadata": {},
   "outputs": [
    {
     "data": {
      "text/plain": [
       "(3, 5)"
      ]
     },
     "execution_count": 28,
     "metadata": {},
     "output_type": "execute_result"
    }
   ],
   "source": [
    "pdf.shape"
   ]
  },
  {
   "cell_type": "markdown",
   "metadata": {},
   "source": [
    "## Task 8: Close the Connection\n",
    "\n",
    "We free all resources by closing the connection. Remember that it is always important to close connections so that we can avoid unused connections taking up resources.\n"
   ]
  },
  {
   "cell_type": "code",
   "execution_count": 29,
   "metadata": {},
   "outputs": [
    {
     "data": {
      "text/plain": [
       "True"
      ]
     },
     "execution_count": 29,
     "metadata": {},
     "output_type": "execute_result"
    }
   ],
   "source": [
    "ibm_db.close(conn)"
   ]
  },
  {
   "cell_type": "markdown",
   "metadata": {},
   "source": [
    "## Summary\n",
    "\n",
    "In this tutorial you established a connection to a database instance of DB2 Warehouse on Cloud from a Python notebook using ibm_db API. Then created a table and insert a few rows of data into it. Then queried the data. You also retrieved the data into a pandas dataframe.\n"
   ]
  },
  {
   "cell_type": "markdown",
   "metadata": {},
   "source": [
    "## Author\n",
    "\n",
    "<a href=\"https://www.linkedin.com/in/ravahuja/?utm_medium=Exinfluencer&utm_source=Exinfluencer&utm_content=000026UJ&utm_term=10006555&utm_id=NA-SkillsNetwork-Channel-SkillsNetworkCoursesIBMDeveloperSkillsNetworkDB0201ENSkillsNetwork20127838-2022-01-01\" target=\"_blank\">Rav Ahuja</a>\n",
    "\n",
    "## Change Log\n",
    "\n",
    "| Date (YYYY-MM-DD) | Version | Changed By | Change Description                 |\n",
    "| ----------------- | ------- | ---------- | ---------------------------------- |\n",
    "| 2021-11-17        | 2.2     | Lakshmi    | Updated library                    |\n",
    "| 2021-07-09        | 2.1     | Malika     | Updated connection string          |\n",
    "| 2020-08-28        | 2.0     | Lavanya    | Moved lab to course repo in GitLab |\n",
    "\n",
    "<hr>\n",
    "\n",
    "## <h3 align=\"center\"> © IBM Corporation 2020. All rights reserved. <h3/>\n"
   ]
  }
 ],
 "metadata": {
  "kernelspec": {
   "display_name": "Python 3 (ipykernel)",
   "language": "python",
   "name": "python3"
  },
  "language_info": {
   "codemirror_mode": {
    "name": "ipython",
    "version": 3
   },
   "file_extension": ".py",
   "mimetype": "text/x-python",
   "name": "python",
   "nbconvert_exporter": "python",
   "pygments_lexer": "ipython3",
   "version": "3.9.7"
  },
  "widgets": {
   "state": {},
   "version": "1.1.2"
  }
 },
 "nbformat": 4,
 "nbformat_minor": 4
}
